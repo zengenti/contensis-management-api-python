{
 "cells": [
  {
   "cell_type": "markdown",
   "metadata": {},
   "source": [
    "# Users\n",
    "\n",
    "Set up the `ApiClient` with the unique name of your Contensis instance (the `alias`).\n",
    "Together with your personal username and password."
   ]
  },
  {
   "cell_type": "code",
   "execution_count": 12,
   "metadata": {},
   "outputs": [],
   "source": [
    "from contensis_management import (\n",
    "    api_client,\n",
    "    request_handler,\n",
    ")\n",
    "from tests.helper_config import env_config\n",
    "\n",
    "alias = env_config.alias\n",
    "username = env_config.username\n",
    "password = env_config.password\n",
    "handler = request_handler.RequestHandler()\n",
    "client = api_client.ApiClient(handler, alias, username, password)"
   ]
  },
  {
   "cell_type": "markdown",
   "metadata": {},
   "source": [
    "# Get a list of all the users\n",
    "\n",
    "This should be paged, but currently it doesn't support paging.  The user ids are `uuid`s."
   ]
  },
  {
   "cell_type": "code",
   "execution_count": 13,
   "metadata": {},
   "outputs": [
    {
     "name": "stdout",
     "output_type": "stream",
     "text": [
      "The id of the first user is: 209e4053-f71b-45a9-ba87-3f5595caaeee\n"
     ]
    }
   ],
   "source": [
    "the_users = client.users.list()\n",
    "first_user = the_users[0]\n",
    "print(f\"The id of the first user is: {first_user.id}\")"
   ]
  },
  {
   "cell_type": "markdown",
   "metadata": {},
   "source": [
    "# Get a single user\n",
    "\n",
    "From their id.\n",
    "The `first_name` and `last_name` are optional so you might not get anything.\n",
    "The `username` should have something in it."
   ]
  },
  {
   "cell_type": "code",
   "execution_count": 14,
   "metadata": {},
   "outputs": [
    {
     "name": "stdout",
     "output_type": "stream",
     "text": [
      "The first user is:  \n",
      "The first user's username is: !! New key\n"
     ]
    }
   ],
   "source": [
    "the_user = client.users.get(first_user.id)\n",
    "print(f\"The first user is: {the_user.first_name} {the_user.last_name}\")\n",
    "print(f\"The first user's username is: {the_user.username}\")"
   ]
  },
  {
   "cell_type": "markdown",
   "metadata": {},
   "source": [
    "# Get the current user\n",
    "\n",
    "The current user is identified with `@current`."
   ]
  },
  {
   "cell_type": "code",
   "execution_count": 15,
   "metadata": {},
   "outputs": [
    {
     "name": "stdout",
     "output_type": "stream",
     "text": [
      "The current user is: Zengenti Admin\n"
     ]
    }
   ],
   "source": [
    "the_user = client.users.get(\"@current\")\n",
    "print(f\"The current user is: {the_user.first_name} {the_user.last_name}\")"
   ]
  }
 ],
 "metadata": {
  "kernelspec": {
   "display_name": ".venv",
   "language": "python",
   "name": "python3"
  },
  "language_info": {
   "codemirror_mode": {
    "name": "ipython",
    "version": 3
   },
   "file_extension": ".py",
   "mimetype": "text/x-python",
   "name": "python",
   "nbconvert_exporter": "python",
   "pygments_lexer": "ipython3",
   "version": "3.12.5"
  }
 },
 "nbformat": 4,
 "nbformat_minor": 2
}
