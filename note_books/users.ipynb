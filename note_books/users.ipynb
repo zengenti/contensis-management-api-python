{
 "cells": [
  {
   "cell_type": "markdown",
   "metadata": {},
   "source": [
    "# Users\n",
    "\n",
    "Set up the `ApiClient` with the unique name of your Contensis instance (the `alias`).\n",
    "Together with your personal username and password."
   ]
  },
  {
   "cell_type": "code",
   "execution_count": 7,
   "metadata": {},
   "outputs": [],
   "source": [
    "from contensis_management import (\n",
    "    api_client,\n",
    "    request_handler,\n",
    ")\n",
    "from tests.helper_config import env_config\n",
    "\n",
    "alias = env_config.alias\n",
    "username = env_config.username\n",
    "password = env_config.password\n",
    "handler = request_handler.RequestHandler()\n",
    "client = api_client.ApiClient(handler, alias, username, password)"
   ]
  },
  {
   "cell_type": "markdown",
   "metadata": {},
   "source": [
    "# Get a list of all the users\n",
    "\n",
    "This should be paged, but currently it doesn't support paging.  The user ids are `uuid`s."
   ]
  },
  {
   "cell_type": "code",
   "execution_count": 8,
   "metadata": {},
   "outputs": [
    {
     "name": "stdout",
     "output_type": "stream",
     "text": [
      "The id of the first user is: 209e4053-f71b-45a9-ba87-3f5595caaeee\n"
     ]
    }
   ],
   "source": [
    "the_users = client.users.list()\n",
    "first_user = the_users[0]\n",
    "print(f\"The id of the first user is: {first_user.id}\")"
   ]
  }
 ],
 "metadata": {
  "kernelspec": {
   "display_name": ".venv",
   "language": "python",
   "name": "python3"
  },
  "language_info": {
   "codemirror_mode": {
    "name": "ipython",
    "version": 3
   },
   "file_extension": ".py",
   "mimetype": "text/x-python",
   "name": "python",
   "nbconvert_exporter": "python",
   "pygments_lexer": "ipython3",
   "version": "3.12.5"
  }
 },
 "nbformat": 4,
 "nbformat_minor": 2
}
