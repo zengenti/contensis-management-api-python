{
 "cells": [
  {
   "cell_type": "markdown",
   "metadata": {},
   "source": [
    "# Users\n",
    "\n",
    "## Get a list of your users"
   ]
  },
  {
   "cell_type": "code",
   "execution_count": null,
   "metadata": {},
   "outputs": [
    {
     "name": "stdout",
     "output_type": "stream",
     "text": [
      "/Users/joe/Documents/Projects/zg-contensis-management-api-python/note_books\n"
     ]
    }
   ],
   "source": [
    "from contensis_management import (\n",
    "    api_client,\n",
    "    request_handler,\n",
    ")\n",
    "from contensis_management.resource_handlers import users\n",
    "from tests.helper_config import env_config\n",
    "\n",
    "# Arrange\n",
    "alias = env_config.alias\n",
    "username = env_config.username\n",
    "password = env_config.password\n",
    "handler = request_handler.RequestHandler()\n",
    "client = api_client.ApiClient(handler, alias, username, password)\n",
    "users_handler = users.Users(client)\n",
    "# Act\n",
    "the_users = users_handler.list()\n",
    "# Assert\n",
    "assert the_users is not None"
   ]
  }
 ],
 "metadata": {
  "kernelspec": {
   "display_name": ".venv",
   "language": "python",
   "name": "python3"
  },
  "language_info": {
   "codemirror_mode": {
    "name": "ipython",
    "version": 3
   },
   "file_extension": ".py",
   "mimetype": "text/x-python",
   "name": "python",
   "nbconvert_exporter": "python",
   "pygments_lexer": "ipython3",
   "version": "3.12.5"
  }
 },
 "nbformat": 4,
 "nbformat_minor": 2
}
