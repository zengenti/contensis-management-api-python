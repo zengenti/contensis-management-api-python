{
 "cells": [
  {
   "cell_type": "markdown",
   "metadata": {},
   "source": [
    "# Groups\n",
    "\n",
    "Set up the `ApiClient` with the unique name of your Contensis instance (the `alias`).\n",
    "Together with your personal username and password."
   ]
  },
  {
   "cell_type": "code",
   "execution_count": 1,
   "metadata": {},
   "outputs": [],
   "source": [
    "import json\n",
    "\n",
    "from contensis_management import api_client\n",
    "from tests.helpers.helper_config import env_config\n",
    "\n",
    "alias = env_config.alias\n",
    "username = env_config.username\n",
    "password = env_config.password\n",
    "client = api_client.ApiClient(alias, username, password)"
   ]
  },
  {
   "cell_type": "markdown",
   "metadata": {},
   "source": [
    "## Get a list of the groups\n",
    "\n",
    "Get all the groups in one long list,\n",
    "I have ignored the paging for the time being."
   ]
  },
  {
   "cell_type": "code",
   "execution_count": null,
   "metadata": {},
   "outputs": [
    {
     "name": "stdout",
     "output_type": "stream",
     "text": [
      "_child1\n",
      "_parent\n",
      "11179 Registrations\n",
      "11190 GROUP\n",
      "11190 Group 1\n",
      "11216Group\n",
      "11216Group2\n",
      "11216group4\n",
      "16458 Group 1 (renamed)\n",
      "16657 Sample Group 1\n",
      "532 Group\n",
      "AD Users\n",
      "Alias Administrators\n",
      "API Key Administrators\n",
      "Case Management - Complaints\n",
      "Case Management - Feedback\n",
      "Case Management - FOI\n",
      "Child\n",
      "CMS Editors\n",
      "Committee Manager\n",
      "Content Schedule Administrators\n",
      "Developers\n",
      "Dictionary Administrators\n",
      "Everyone\n",
      "Forum Admin\n"
     ]
    }
   ],
   "source": [
    "the_groups = client.groups.list()\n",
    "group_names = [group.name for group in the_groups]\n",
    "for name in group_names:\n",
    "    print(name)"
   ]
  },
  {
   "cell_type": "markdown",
   "metadata": {},
   "source": [
    "## Show me the First Group"
   ]
  },
  {
   "cell_type": "code",
   "execution_count": 3,
   "metadata": {},
   "outputs": [
    {
     "name": "stdout",
     "output_type": "stream",
     "text": [
      "{\n",
      "    \"id\": \"6dd701cb-ad13-4965-adc9-9efeb4a01be0\",\n",
      "    \"name\": \"_child1\",\n",
      "    \"description\": \"aaa\",\n",
      "    \"custom\": {},\n",
      "    \"type\": \"contensis\",\n",
      "    \"user_count\": 0,\n",
      "    \"child_group_count\": 0,\n",
      "    \"auto_membership_email_domains\": null\n",
      "}\n"
     ]
    }
   ],
   "source": [
    "first_group = the_groups[0]\n",
    "print(json.dumps(json.loads(first_group.json()), indent=4))"
   ]
  },
  {
   "cell_type": "markdown",
   "metadata": {},
   "source": [
    "## Get the Users in a Group"
   ]
  },
  {
   "cell_type": "code",
   "execution_count": null,
   "metadata": {},
   "outputs": [],
   "source": [
    "the_users = client.groups.get(\"CMS Editors\")\n",
    "user_names = [user.first_name for user in the_users]\n",
    "for name in user_names:\n",
    "    print(name)\n"
   ]
  }
 ],
 "metadata": {
  "kernelspec": {
   "display_name": ".venv",
   "language": "python",
   "name": "python3"
  },
  "language_info": {
   "codemirror_mode": {
    "name": "ipython",
    "version": 3
   },
   "file_extension": ".py",
   "mimetype": "text/x-python",
   "name": "python",
   "nbconvert_exporter": "python",
   "pygments_lexer": "ipython3",
   "version": "3.12.6"
  }
 },
 "nbformat": 4,
 "nbformat_minor": 2
}
