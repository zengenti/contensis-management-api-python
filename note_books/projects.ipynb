{
 "cells": [
  {
   "cell_type": "markdown",
   "metadata": {},
   "source": []
  },
  {
   "cell_type": "markdown",
   "metadata": {},
   "source": [
    "# Projects\n",
    "\n",
    "Set up the `ApiClient` with the unique name of your Contensis instance (the `alias`).\n",
    "Together with your personal username and password."
   ]
  },
  {
   "cell_type": "code",
   "execution_count": 20,
   "metadata": {},
   "outputs": [],
   "source": [
    "import json\n",
    "\n",
    "from contensis_management import api_client\n",
    "from tests.helpers.helper_config import env_config\n",
    "\n",
    "alias = env_config.alias\n",
    "username = env_config.username\n",
    "password = env_config.password\n",
    "client = api_client.ApiClient(alias, username, password)"
   ]
  },
  {
   "cell_type": "markdown",
   "metadata": {},
   "source": [
    "## Get a list of your projects\n",
    "\n",
    "Get all the projects in one long list, there is no paging."
   ]
  },
  {
   "cell_type": "code",
   "execution_count": 21,
   "metadata": {},
   "outputs": [
    {
     "name": "stdout",
     "output_type": "stream",
     "text": [
      "The id of the first project is: website\n"
     ]
    }
   ],
   "source": [
    "my_projects = client.projects.list()\n",
    "first_project = my_projects[0]\n",
    "print(f\"The id of the first project is: {first_project.id}\")"
   ]
  },
  {
   "cell_type": "markdown",
   "metadata": {},
   "source": [
    "## Get a single project\n",
    "\n",
    "Using the project id from the first project in the project list."
   ]
  },
  {
   "cell_type": "code",
   "execution_count": 22,
   "metadata": {},
   "outputs": [
    {
     "name": "stdout",
     "output_type": "stream",
     "text": [
      "The project id is: website\n",
      "And the name is: Website\n"
     ]
    }
   ],
   "source": [
    "same_project = client.projects.get(first_project.id)\n",
    "print(f\"The project id is: {same_project.id}\")\n",
    "print(f\"And the name is: {same_project.name}\")"
   ]
  },
  {
   "cell_type": "markdown",
   "metadata": {},
   "source": []
  },
  {
   "cell_type": "markdown",
   "metadata": {},
   "source": [
    "# If the project is there?\n",
    "\n",
    "If the project is there."
   ]
  },
  {
   "cell_type": "code",
   "execution_count": 23,
   "metadata": {},
   "outputs": [
    {
     "name": "stdout",
     "output_type": "stream",
     "text": [
      "Can I create a redirect in this project? {'authorized': True}\n",
      "Status: 200\n"
     ]
    }
   ],
   "source": [
    "the_message = client.projects.check_my_permissions(\n",
    "    first_project.id, resource_type=\"redirects\", action=\"create\"\n",
    ")\n",
    "print(f\"Can I create a redirect in this project? {the_message.detail}\")\n",
    "print(f\"Status: {the_message.status_code}\")"
   ]
  },
  {
   "cell_type": "markdown",
   "metadata": {},
   "source": [
    "# The project is not there?\n",
    "\n",
    "If the project isn't there, you should get a message.\n",
    "Which we can return directly to Contensis if need be."
   ]
  },
  {
   "cell_type": "code",
   "execution_count": 24,
   "metadata": {},
   "outputs": [
    {
     "name": "stdout",
     "output_type": "stream",
     "text": [
      "Can I create a redirect in this project?\n",
      "Status: 404\n",
      "{\n",
      "    \"data\": null,\n",
      "    \"logId\": \"00000000-0000-0000-0000-000000000000\",\n",
      "    \"message\": \"The specified project with ID 'not-a-real-project-id' does not exist\",\n",
      "    \"type\": \"Error\"\n",
      "}\n"
     ]
    }
   ],
   "source": [
    "the_message = client.projects.check_my_permissions(\n",
    "    \"not-a-real-project-id\", resource_type=\"redirects\", action=\"create\"\n",
    ")\n",
    "print(\"Can I create a redirect in this project?\")\n",
    "print(f\"Status: {the_message.status_code}\")\n",
    "print(json.dumps(the_message.detail, sort_keys=True, indent=4))"
   ]
  },
  {
   "cell_type": "markdown",
   "metadata": {},
   "source": [
    "# The resource isn't real"
   ]
  },
  {
   "cell_type": "code",
   "execution_count": 25,
   "metadata": {},
   "outputs": [
    {
     "name": "stdout",
     "output_type": "stream",
     "text": [
      "Can I create not-a-real-resource for this project?\n",
      "Status: 404\n",
      "{\n",
      "    \"data\": null,\n",
      "    \"logId\": \"00000000-0000-0000-0000-000000000000\",\n",
      "    \"message\": \"The resource Entry type is unknown\",\n",
      "    \"type\": \"Error\"\n",
      "}\n"
     ]
    }
   ],
   "source": [
    "the_message = client.projects.check_my_permissions(\n",
    "    first_project.id, resource_type=\"not-a-real-resource\", action=\"create\"\n",
    ")\n",
    "print(\"Can I create not-a-real-resource for this project?\")\n",
    "print(f\"Status: {the_message.status_code}\")\n",
    "print(json.dumps(the_message.detail, sort_keys=True, indent=4))"
   ]
  },
  {
   "cell_type": "markdown",
   "metadata": {},
   "source": [
    "# The action isn't real"
   ]
  },
  {
   "cell_type": "code",
   "execution_count": 26,
   "metadata": {},
   "outputs": [
    {
     "name": "stdout",
     "output_type": "stream",
     "text": [
      "Can I perform a fake action on this project?\n",
      "Status: 404\n",
      "{\n",
      "    \"data\": null,\n",
      "    \"logId\": \"00000000-0000-0000-0000-000000000000\",\n",
      "    \"message\": \"Action unauthorized\",\n",
      "    \"type\": \"Error\"\n",
      "}\n"
     ]
    }
   ],
   "source": [
    "the_message = client.projects.check_my_permissions(\n",
    "    first_project.id, resource_type=\"redirects\", action=\"polish\"\n",
    ")\n",
    "print(\"Can I perform a fake action on this project?\")\n",
    "print(f\"Status: {the_message.status_code}\")\n",
    "print(json.dumps(the_message.detail, sort_keys=True, indent=4))"
   ]
  }
 ],
 "metadata": {
  "kernelspec": {
   "display_name": ".venv",
   "language": "python",
   "name": "python3"
  },
  "language_info": {
   "codemirror_mode": {
    "name": "ipython",
    "version": 3
   },
   "file_extension": ".py",
   "mimetype": "text/x-python",
   "name": "python",
   "nbconvert_exporter": "python",
   "pygments_lexer": "ipython3",
   "version": "3.12.6"
  }
 },
 "nbformat": 4,
 "nbformat_minor": 2
}
