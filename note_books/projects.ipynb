{
 "cells": [
  {
   "cell_type": "markdown",
   "metadata": {},
   "source": [
    "# Projects\n",
    "\n",
    "## Get a list of your projects"
   ]
  },
  {
   "cell_type": "code",
   "execution_count": 1,
   "metadata": {},
   "outputs": [],
   "source": [
    "from contensis_management import (\n",
    "    api_client,\n",
    "    request_handler,\n",
    ")\n",
    "from contensis_management.resource_handlers import projects\n",
    "from tests.helper_config import env_config\n",
    "\n",
    "# Arrange\n",
    "alias = env_config.alias\n",
    "username = env_config.username\n",
    "password = env_config.password\n",
    "handler = request_handler.RequestHandler()\n",
    "client = api_client.ApiClient(handler, alias, username, password)\n",
    "projects_handler = projects.Projects(client)\n",
    "# Act\n",
    "the_projects = projects_handler.list()\n",
    "# Assert\n",
    "assert the_projects is not None"
   ]
  }
 ],
 "metadata": {
  "kernelspec": {
   "display_name": ".venv",
   "language": "python",
   "name": "python3"
  },
  "language_info": {
   "codemirror_mode": {
    "name": "ipython",
    "version": 3
   },
   "file_extension": ".py",
   "mimetype": "text/x-python",
   "name": "python",
   "nbconvert_exporter": "python",
   "pygments_lexer": "ipython3",
   "version": "3.12.5"
  }
 },
 "nbformat": 4,
 "nbformat_minor": 2
}
