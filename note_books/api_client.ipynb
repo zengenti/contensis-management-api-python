{
 "cells": [
  {
   "cell_type": "markdown",
   "metadata": {
    "vscode": {
     "languageId": "plaintext"
    }
   },
   "source": [
    "# The API client\n",
    "\n",
    "Handles authentication."
   ]
  },
  {
   "cell_type": "code",
   "execution_count": null,
   "metadata": {},
   "outputs": [],
   "source": [
    "from contensis_management import (\n",
    "    api_client,\n",
    "    request_handler,\n",
    ")\n",
    "from tests.helper_config import env_config\n",
    "\n",
    "# Arrange\n",
    "alias = env_config.alias\n",
    "username = env_config.username\n",
    "password = env_config.password\n",
    "handler = request_handler.RequestHandler()\n",
    "# Act\n",
    "client = api_client.ApiClient(handler, alias, username, password)\n",
    "# Assert\n",
    "assert client.token is not None\n",
    "a_big_number = 1000  # Tokens seem to be about 1125 characters long.\n",
    "assert len(client.token) > a_big_number"
   ]
  }
 ],
 "metadata": {
  "language_info": {
   "name": "python"
  }
 },
 "nbformat": 4,
 "nbformat_minor": 2
}
