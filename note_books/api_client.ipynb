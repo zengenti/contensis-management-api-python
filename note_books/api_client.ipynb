{
 "cells": [
  {
   "cell_type": "markdown",
   "metadata": {
    "vscode": {
     "languageId": "plaintext"
    }
   },
   "source": [
    "# The API client\n",
    "\n",
    "Handles authentication."
   ]
  },
  {
   "cell_type": "code",
   "execution_count": 1,
   "metadata": {},
   "outputs": [],
   "source": [
    "from contensis_management import (\n",
    "    api_client,\n",
    "    request_handler,\n",
    ")\n",
    "from tests.helpers.helper_config import env_config\n",
    "\n",
    "alias = env_config.alias\n",
    "username = env_config.username\n",
    "password = env_config.password\n",
    "handler = request_handler.RequestHandler()\n",
    "client = api_client.ApiClient(handler, alias, username, password)"
   ]
  },
  {
   "cell_type": "markdown",
   "metadata": {},
   "source": [
    "# Bearer Token\n",
    "\n",
    "If the authentication is successful there should be a bearer token for use in all the subsequent requests."
   ]
  },
  {
   "cell_type": "code",
   "execution_count": 2,
   "metadata": {},
   "outputs": [],
   "source": [
    "assert client.token is not None\n",
    "a_big_number = 1000  # Tokens seem to be about 1125 characters long.\n",
    "assert len(client.token) > a_big_number"
   ]
  },
  {
   "cell_type": "markdown",
   "metadata": {},
   "source": [
    "# Using a token to authenticate\n",
    "\n",
    "If you have the token already,\n",
    "(for example if your client has already authenticated with the Contensis API)\n",
    "you can instantiate the client using the token."
   ]
  },
  {
   "cell_type": "code",
   "execution_count": 3,
   "metadata": {},
   "outputs": [
    {
     "name": "stdout",
     "output_type": "stream",
     "text": [
      "There are 41 projects in this account.\n"
     ]
    }
   ],
   "source": [
    "client_from_token = api_client.ApiClient.from_token(handler, alias, token=client.token)\n",
    "all_the_projects = client_from_token.projects.list()\n",
    "print(f\"There are {len(all_the_projects)} projects in this account.\")"
   ]
  },
  {
   "cell_type": "markdown",
   "metadata": {},
   "source": [
    "# Factory method for credentials\n",
    "\n",
    "For completeness there is also a factory method to create the Api Client using credentials.\n",
    "It kind of makes no sense because it is just a facade for the constructor,\n",
    "But it seemed unbalanced without it."
   ]
  },
  {
   "cell_type": "code",
   "execution_count": 4,
   "metadata": {},
   "outputs": [
    {
     "name": "stdout",
     "output_type": "stream",
     "text": [
      "The first project is called Website.\n"
     ]
    }
   ],
   "source": [
    "client_from_credentials = api_client.ApiClient.from_credentials(\n",
    "    handler, alias, username, password\n",
    ")\n",
    "all_the_projects = client_from_credentials.projects.list()\n",
    "the_first_project = all_the_projects[0]\n",
    "print(f\"The first project is called {the_first_project.name}.\")"
   ]
  }
 ],
 "metadata": {
  "kernelspec": {
   "display_name": ".venv",
   "language": "python",
   "name": "python3"
  },
  "language_info": {
   "codemirror_mode": {
    "name": "ipython",
    "version": 3
   },
   "file_extension": ".py",
   "mimetype": "text/x-python",
   "name": "python",
   "nbconvert_exporter": "python",
   "pygments_lexer": "ipython3",
   "version": "3.12.6"
  }
 },
 "nbformat": 4,
 "nbformat_minor": 2
}
